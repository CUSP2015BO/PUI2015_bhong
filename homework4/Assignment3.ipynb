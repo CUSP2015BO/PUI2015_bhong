{
 "cells": [
  {
   "cell_type": "markdown",
   "metadata": {},
   "source": [
    "#Assignment 3:"
   ]
  },
  {
   "cell_type": "code",
   "execution_count": 1,
   "metadata": {
    "collapsed": false
   },
   "outputs": [
    {
     "name": "stdout",
     "output_type": "stream",
     "text": [
      "Populating the interactive namespace from numpy and matplotlib\n"
     ]
    }
   ],
   "source": [
    "import pylab as pl\n",
    "import pandas as pd\n",
    "import numpy as np\n",
    "%pylab inline\n",
    "\n",
    "import os\n",
    "import json\n",
    "#import sys\n",
    "#import urllib2\n",
    "\n",
    "import scipy.stats"
   ]
  },
  {
   "cell_type": "markdown",
   "metadata": {},
   "source": [
    "### 2014 October ~ 2015 Septemper\n",
    "* Spring+Summer: Apr, May, Jun, Jul, Aug, Sep\n",
    "* Fall+Winter: Oct, Nov, Dec, Jan, Feb, Mar"
   ]
  },
  {
   "cell_type": "code",
   "execution_count": 2,
   "metadata": {
    "collapsed": true
   },
   "outputs": [],
   "source": [
    "df_10=pd.read_csv('201410-citibike-tripdata.csv')\n",
    "df_11=pd.read_csv('201411-citibike-tripdata.csv')\n",
    "df_12=pd.read_csv('201412-citibike-tripdata.csv')\n",
    "df_01=pd.read_csv('201501-citibike-tripdata.csv')\n",
    "df_02=pd.read_csv('201502-citibike-tripdata.csv')\n",
    "df_03=pd.read_csv('201503-citibike-tripdata.csv')\n",
    "df_04=pd.read_csv('201504-citibike-tripdata.csv')\n",
    "df_05=pd.read_csv('201505-citibike-tripdata.csv')\n",
    "df_06=pd.read_csv('201506-citibike-tripdata.csv')\n",
    "df_07=pd.read_csv('201507-citibike-tripdata.csv')\n",
    "df_08=pd.read_csv('201508-citibike-tripdata.csv')\n",
    "df_09=pd.read_csv('201509-citibike-tripdata.csv')"
   ]
  },
  {
   "cell_type": "code",
   "execution_count": 3,
   "metadata": {
    "collapsed": false
   },
   "outputs": [],
   "source": [
    "# Merge data (Winter vs Summer)\n",
    "#framesW = [df_10, df_11, df_12, df_01, df_02, df_03]\n",
    "#df_W = pd.concat(framesW)\n",
    "#framesS = [df_04, df_05, df_06, df_07, df_08, df_09]\n",
    "#df_S = pd.concat(framesS)"
   ]
  },
  {
   "cell_type": "code",
   "execution_count": 4,
   "metadata": {
    "collapsed": true
   },
   "outputs": [],
   "source": [
    "# Merge data (Winter vs Summer)\n",
    "df_W = df_10.append([df_11, df_12, df_01, df_02, df_03],ignore_index = True)\n",
    "df_S = df_04.append([df_05, df_06, df_07, df_08, df_09],ignore_index = True)"
   ]
  },
  {
   "cell_type": "code",
   "execution_count": 5,
   "metadata": {
    "collapsed": false
   },
   "outputs": [
    {
     "name": "stdout",
     "output_type": "stream",
     "text": [
      "tripduration               2581276\n",
      "starttime                  2581276\n",
      "stoptime                   2581276\n",
      "start station id           2581276\n",
      "start station name         2581276\n",
      "start station latitude     2581276\n",
      "start station longitude    2581276\n",
      "end station id             2581276\n",
      "end station name           2581276\n",
      "end station latitude       2581276\n",
      "end station longitude      2581276\n",
      "bikeid                     2581276\n",
      "usertype                   2581276\n",
      "birth year                 2446919\n",
      "gender                     2581276\n",
      "dtype: int64\n",
      "tripduration               6110014\n",
      "starttime                  6110014\n",
      "stoptime                   6110014\n",
      "start station id           6110014\n",
      "start station name         6110014\n",
      "start station latitude     6110014\n",
      "start station longitude    6110014\n",
      "end station id             6110014\n",
      "end station name           6110014\n",
      "end station latitude       6110014\n",
      "end station longitude      6110014\n",
      "bikeid                     6110014\n",
      "usertype                   6110014\n",
      "birth year                 5134374\n",
      "gender                     6110014\n",
      "dtype: int64\n"
     ]
    }
   ],
   "source": [
    "print df_W.count()\n",
    "print df_S.count()"
   ]
  },
  {
   "cell_type": "code",
   "execution_count": 6,
   "metadata": {
    "collapsed": false
   },
   "outputs": [],
   "source": [
    "# Calculate age of subscriber by season\n",
    "df_W['age'] = 2015-df_W['birth year'][(df_W['usertype'] == 'Subscriber')]\n",
    "df_S['age'] = 2015-df_S['birth year'][(df_S['usertype'] == 'Subscriber')]"
   ]
  },
  {
   "cell_type": "code",
   "execution_count": 7,
   "metadata": {
    "collapsed": false
   },
   "outputs": [
    {
     "name": "stdout",
     "output_type": "stream",
     "text": [
      "   tripduration           starttime            stoptime  start station id  \\\n",
      "0          1027  10/1/2014 00:00:27  10/1/2014 00:17:34               479   \n",
      "1           534  10/1/2014 00:00:36  10/1/2014 00:09:30               417   \n",
      "\n",
      "       start station name  start station latitude  start station longitude  \\\n",
      "0         9 Ave & W 45 St               40.760193               -73.991255   \n",
      "1  Barclay St & Church St               40.712912               -74.010202   \n",
      "\n",
      "   end station id         end station name  end station latitude  \\\n",
      "0             540  Lexington Ave & E 26 St             40.741473   \n",
      "1             417   Barclay St & Church St             40.712912   \n",
      "\n",
      "   end station longitude  bikeid    usertype  birth year  gender  age  \n",
      "0             -73.983209   21376  Subscriber        1977       1   38  \n",
      "1             -74.010202   16086  Subscriber        1974       2   41  \n",
      "   tripduration          starttime           stoptime  start station id  \\\n",
      "0           241  4/1/2015 00:00:23  4/1/2015 00:04:25               494   \n",
      "1           578  4/1/2015 00:00:52  4/1/2015 00:10:31                82   \n",
      "\n",
      "       start station name  start station latitude  start station longitude  \\\n",
      "0         W 26 St & 8 Ave               40.747348               -73.997236   \n",
      "1  St James Pl & Pearl St               40.711174               -74.000165   \n",
      "\n",
      "   end station id       end station name  end station latitude  \\\n",
      "0             489       10 Ave & W 28 St             40.750664   \n",
      "1            2008  Little West St & 1 Pl             40.705693   \n",
      "\n",
      "   end station longitude  bikeid    usertype  birth year  gender  age  \n",
      "0             -74.001768   15510  Subscriber        1992       2   23  \n",
      "1             -74.016777   15014  Subscriber        1982       1   33  \n"
     ]
    }
   ],
   "source": [
    "print df_W.head(2)\n",
    "print df_S.head(2)"
   ]
  },
  {
   "cell_type": "code",
   "execution_count": 10,
   "metadata": {
    "collapsed": false
   },
   "outputs": [
    {
     "data": {
      "image/png": "[encoded data removed]",
      "text/plain": [
       "<matplotlib.figure.Figure at 0xbe3e400>"
      ]
     },
     "metadata": {},
     "output_type": "display_data"
    },
    {
     "data": {
      "image/png": "[encoded data removed]",
      "text/plain": [
       "<matplotlib.figure.Figure at 0x8438f358>"
      ]
     },
     "metadata": {},
     "output_type": "display_data"
    }
   ],
   "source": [
    "#split age in 10 year bins\n",
    "bins = np.arange(10, 99, 10)\n",
    "df_W.age.groupby(pd.cut(df_W.age, bins)).agg([count_nonzero]).plot(kind='bar', title=\"Winter\", color='Orange', alpha=0.6)\n",
    "W_age_dist = df_W.age.groupby(pd.cut(df_W.age, bins)).agg([count_nonzero])\n",
    "df_S.age.groupby(pd.cut(df_S.age, bins)).agg([count_nonzero]).plot(kind='bar', title=\"Summer\", color='Orange', alpha=0.6)\n",
    "S_age_dist = df_S.age.groupby(pd.cut(df_S.age, bins)).agg([count_nonzero])"
   ]
  },
  {
   "cell_type": "markdown",
   "metadata": {},
   "source": [
    "##KS tests for goodness of fit"
   ]
  },
  {
   "cell_type": "code",
   "execution_count": 26,
   "metadata": {
    "collapsed": false
   },
   "outputs": [
    {
     "name": "stdout",
     "output_type": "stream",
     "text": [
      "* winter, normal fit (1.0, 0.0)\n",
      "* summer, normal fit (1.0, 0.0)\n",
      "* winter, poisson fit (0.99999958611279782, 0.0)\n",
      "* summer, poisson fit (0.99999980724659676, 0.0)\n",
      "* winter, logistic fit (1.0, 0.0)\n",
      "* summer, logistic fit (1.0, 0.0)\n"
     ]
    }
   ],
   "source": [
    "#compare to normal\n",
    "\n",
    "ksW=scipy.stats.kstest(W_age_dist, 'norm')\n",
    "ksS=scipy.stats.kstest(S_age_dist, 'norm')\n",
    "print \"* winter, normal fit\", ksW\n",
    "print \"* summer, normal fit\", ksS\n",
    "\n",
    "#compare to poisson \n",
    "\n",
    "ksW=scipy.stats.kstest(W_age_dist, 'cauchy')\n",
    "ksS=scipy.stats.kstest(S_age_dist, 'cauchy')\n",
    "print \"* winter, poisson fit\", ksW\n",
    "print \"* summer, poisson fit\", ksS\n",
    "\n",
    "ksW=scipy.stats.kstest(W_age_dist, 'logistic')\n",
    "ksS=scipy.stats.kstest(S_age_dist, 'logistic')\n",
    "print \"* winter, logistic fit\", ksW\n",
    "print \"* summer, logistic fit\", ksS"
   ]
  },
  {
   "cell_type": "markdown",
   "metadata": {},
   "source": [
    "###Result\n",
    "* p value of KS(Winter data on normal) is 0.0 which is lower than significant level 5%. From this, NULL hypothesis (the sample does not come from the model distribution) can be accpted. Therefore, the sample and model distributions are not same.\n",
    "* p value of KS(Summer data on normal) is 0.0 which is lower than significant level 5%. From this, NULL hypothesis is accepted. Therefore age distribution of Summer doesn't come from normal distribution.\n",
    "* p value of KS(Winter data on poisson) is 0.0 which is lower than significant leverl 5%. From this, NULL hypothesis can not be rejected. Therefore, the age distribution of winter is not same with possion distribution.\n",
    "* p value of KS(Summer data on poisson) is 0.0 which is lower than significant leverl 5%. From this, NULL hypothesis can not be rejected. Therefore, the age distribution of summer is not same with possion distribution."
   ]
  },
  {
   "cell_type": "markdown",
   "metadata": {},
   "source": [
    "##Anderson Darling test for goodness of fit"
   ]
  },
  {
   "cell_type": "code",
   "execution_count": 20,
   "metadata": {
    "collapsed": false
   },
   "outputs": [
    {
     "name": "stdout",
     "output_type": "stream",
     "text": [
      "* winter, normal fit (27828.428994094953, array([ 0.576,  0.656,  0.787,  0.918,  1.092]), array([ 15. ,  10. ,   5. ,   2.5,   1. ]))\n",
      "* summer, normal fit (75925.564914559945, array([ 0.576,  0.656,  0.787,  0.918,  1.092]), array([ 15. ,  10. ,   5. ,   2.5,   1. ]))\n",
      "* winter, logistic fit (27890.305466790684, array([ 0.426,  0.563,  0.66 ,  0.769,  0.906,  1.01 ]), array([ 25. ,  10. ,   5. ,   2.5,   1. ,   0.5]))\n",
      "* summer, logistic fit (70974.883077922277, array([ 0.426,  0.563,  0.66 ,  0.769,  0.906,  1.01 ]), array([ 25. ,  10. ,   5. ,   2.5,   1. ,   0.5]))\n"
     ]
    }
   ],
   "source": [
    "#compare to normal\n",
    "\n",
    "adW=scipy.stats.anderson(df_W.age[~np.isnan(df_W.age)], dist='norm')\n",
    "adS=scipy.stats.anderson(df_S.age[~np.isnan(df_S.age)], dist='norm')\n",
    "print \"* winter, normal fit\", adW\n",
    "print \"* summer, normal fit\", adS\n",
    "\n",
    "#compare to poisson \n",
    "\n",
    "adW=scipy.stats.anderson(df_W.age[~np.isnan(df_W.age)], dist='logistic')\n",
    "adS=scipy.stats.anderson(df_S.age[~np.isnan(df_S.age)], dist='logistic')\n",
    "print \"* winter, logistic fit\", adW\n",
    "print \"* summer, logistic fit\", adS\n",
    "\n",
    "#scipy.stats.anderson(dist_n, dist='norm')\n",
    "#df.ageS[~np.isnan(df.ageS)]"
   ]
  },
  {
   "cell_type": "markdown",
   "metadata": {},
   "source": [
    "###Result\n",
    "* Anderson(Winter on normal) is 27828.43 which is much larger than threshold value at significant level 5%. It means distribution is not likely to be related. In terms of rejection of the NULL hypothesis, the NULL hypothesis (the sample does not come form the model distribution) is not rejected. Therefore, the age distribution of winter data is not same with normal distribution.\n",
    "* Anderson(Summer on normal) is 75925.56 which is much larger than threshold value at significant level 5%. It means distribution is not likely to be related. In terms of rejection of the NULL hypothesis, the NULL hypothesis (the sample does not come form the model distribution) is not rejected. Therefore, the age distribution of summer data is not same with normal distribution.\n",
    "* Anderson(Winter on logistic) is 27890.30 which is much larger than threshold value at significant level 5%. It means distribution is not likely to be related. In terms of rejection of the NULL hypothesis, the NULL hypothesis (the sample does not come form the model distribution) is not rejected. Therefore, the age distribution of winter data is not same with logistic distribution.\n",
    "* Anderson(Summer on logistic) is 70974.88 which is much larger than threshold value at significant level 5%. It means distribution is not likely to be related. In terms of rejection of the NULL hypothesis, the NULL hypothesis (the sample does not come form the model distribution) is not rejected. Therefore, the age distribution of summer data is not same with logistic distribution."
   ]
  },
  {
   "cell_type": "code",
   "execution_count": null,
   "metadata": {
    "collapsed": true
   },
   "outputs": [],
   "source": []
  }
 ],
 "metadata": {
  "kernelspec": {
   "display_name": "Python 2",
   "language": "python",
   "name": "python2"
  },
  "language_info": {
   "codemirror_mode": {
    "name": "ipython",
    "version": 2
   },
   "file_extension": ".py",
   "mimetype": "text/x-python",
   "name": "python",
   "nbconvert_exporter": "python",
   "pygments_lexer": "ipython2",
   "version": "2.7.10"
  }
 },
 "nbformat": 4,
 "nbformat_minor": 0
}
