{
 "cells": [
  {
   "cell_type": "markdown",
   "metadata": {},
   "source": [
    "#Assignment 8:\n",
    "#Boyeong Hong\n",
    "* This assignment used the data from my GRA project (E-waste).\n",
    "* The main topic is to understand an accessibility to e-waste collection facilities from each borough of NYC."
   ]
  },
  {
   "cell_type": "code",
   "execution_count": 1,
   "metadata": {
    "collapsed": false
   },
   "outputs": [
    {
     "name": "stdout",
     "output_type": "stream",
     "text": [
      "Populating the interactive namespace from numpy and matplotlib\n"
     ]
    }
   ],
   "source": [
    "import geopandas as gp\n",
    "import pandas as pd\n",
    "import matplotlib.pyplot as plt\n",
    "import pylab as pl\n",
    "import seaborn as sns\n",
    "from statsmodels.graphics.api import abline_plot\n",
    "from pandas.tools.plotting import scatter_matrix\n",
    "import statsmodels.formula.api as smf\n",
    "\n",
    "%pylab inline"
   ]
  },
  {
   "cell_type": "code",
   "execution_count": 2,
   "metadata": {
    "collapsed": true
   },
   "outputs": [],
   "source": [
    "df = gp.GeoDataFrame.from_file(\"accessibility_collection_site_ct_pop.shp\")"
   ]
  },
  {
   "cell_type": "code",
   "execution_count": 3,
   "metadata": {
    "collapsed": false
   },
   "outputs": [
    {
     "name": "stdout",
     "output_type": "stream",
     "text": [
      "Index([u'BoroCT2010',   u'BoroCode',   u'BoroName',    u'Borough',\n",
      "       u'Boroughcod', u'CDEligibil',         u'CT',     u'CT2010',\n",
      "          u'CTLabel',    u'CT_long',         u'F8',       u'FIPS',\n",
      "        u'NEAR_DIST',   u'NEAR_FID',    u'NTACode',    u'NTAName',\n",
      "             u'PUMA', u'Population', u'Shape_Area', u'Shape_Leng',\n",
      "             u'Year',       u'code',   u'geometry',          u'x',\n",
      "                u'y'],\n",
      "      dtype='object')\n"
     ]
    }
   ],
   "source": [
    "print df.columns"
   ]
  },
  {
   "cell_type": "code",
   "execution_count": 4,
   "metadata": {
    "collapsed": false
   },
   "outputs": [
    {
     "data": {
      "text/plain": [
       "count     2166.000000\n",
       "mean      3611.544021\n",
       "std       3849.697976\n",
       "min          0.000000\n",
       "25%       1156.592673\n",
       "50%       2672.859013\n",
       "75%       4736.441196\n",
       "max      31049.991523\n",
       "Name: NEAR_DIST, dtype: float64"
      ]
     },
     "execution_count": 4,
     "metadata": {},
     "output_type": "execute_result"
    }
   ],
   "source": [
    "df['NEAR_DIST'].describe()"
   ]
  },
  {
   "cell_type": "code",
   "execution_count": 6,
   "metadata": {
    "collapsed": true
   },
   "outputs": [],
   "source": [
    "df_MN=df[df.BoroName=='Manhattan']\n",
    "df_BR=df[df.BoroName=='Brooklyn']\n",
    "df_QN=df[df.BoroName=='Queens']\n",
    "df_BX=df[df.BoroName=='Bronx']\n",
    "df_ST=df[df.BoroName=='Staten Island']"
   ]
  },
  {
   "cell_type": "markdown",
   "metadata": {},
   "source": [
    "### Box plots (original nearest distance)"
   ]
  },
  {
   "cell_type": "code",
   "execution_count": 8,
   "metadata": {
    "collapsed": false
   },
   "outputs": [
    {
     "data": {
      "image/png": "[encoded data removed]",
      "text/plain": [
       "<matplotlib.figure.Figure at 0x19c2e908>"
      ]
     },
     "metadata": {},
     "output_type": "display_data"
    }
   ],
   "source": [
    "data_to_plot = [df['NEAR_DIST'], df_MN['NEAR_DIST'],df_BR['NEAR_DIST'],df_QN['NEAR_DIST'],df_BR['NEAR_DIST'],df_ST['NEAR_DIST']]\n",
    "# Create a figure instance\n",
    "fig = plt.figure(1, figsize=(15, 8))\n",
    "\n",
    "# Create an axes instance\n",
    "ax = fig.add_subplot(111)\n",
    "ax.set_ylim(0,13000)\n",
    "ax.set_xlabel(\"1=NYC, 2=Manhattan, 3=Brooklyn, 4=Queens, 5=Bronx, 6=Staten Island\")\n",
    "ax.set_ylabel(\"Distance to the nearest collection site of each census tract\")\n",
    "\n",
    "# Create the boxplot\n",
    "bp = ax.boxplot(data_to_plot, showmeans=True)"
   ]
  }
 ],
 "metadata": {
  "kernelspec": {
   "display_name": "Python 2",
   "language": "python",
   "name": "python2"
  },
  "language_info": {
   "codemirror_mode": {
    "name": "ipython",
    "version": 2
   },
   "file_extension": ".py",
   "mimetype": "text/x-python",
   "name": "python",
   "nbconvert_exporter": "python",
   "pygments_lexer": "ipython2",
   "version": "2.7.10"
  }
 },
 "nbformat": 4,
 "nbformat_minor": 0
}
