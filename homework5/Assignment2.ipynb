{
 "cells": [
  {
   "cell_type": "markdown",
   "metadata": {},
   "source": [
    "##Boyeong Hong\n",
    "##HW5 Assignment 2:\n",
    "###Gender Income Gap"
   ]
  },
  {
   "cell_type": "code",
   "execution_count": 1,
   "metadata": {
    "collapsed": false
   },
   "outputs": [
    {
     "name": "stdout",
     "output_type": "stream",
     "text": [
      "Populating the interactive namespace from numpy and matplotlib\n"
     ]
    }
   ],
   "source": [
    "import pandas as pd\n",
    "import sys\n",
    "import os\n",
    "import numpy \n",
    "import pylab as pl\n",
    "import seaborn as sns\n",
    "from statsmodels.graphics.api import abline_plot\n",
    "from pandas.tools.plotting import scatter_matrix\n",
    "import statsmodels.formula.api as smf\n",
    "import statsmodels.api as sm\n",
    "\n",
    "%pylab inline"
   ]
  },
  {
   "cell_type": "code",
   "execution_count": 2,
   "metadata": {
    "collapsed": true
   },
   "outputs": [],
   "source": [
    "#to use the url just pas it to pandas read_excell\n",
    "url=\"http://cosmo.nyu.edu/~fb55/UI_CUSP_2015/data/\"\n",
    "#split your data by male and female, for example you can load the data into 2 disctionary. other variables may be relevant: for example race.\n",
    "#the names are not informative, and i am not giving you any meta data to find out what is in each file. \n",
    "# 08_2 files are male, 08_3 are female, and I am leaving in the lines of code that read the male files into races\n",
    "\n",
    "allmales={}\n",
    "allfemales={}\n",
    "\n",
    "allmales['all']=pd.read_excel(url+'/pinc08_2_1_1.xls',header=9)#%s/pinc03_2_1_1.xls'%url, header=9)\n",
    "allmales['white']=pd.read_excel(url+'/pinc08_2_1_4.xls', header=9)\n",
    "allmales['black']=pd.read_excel(url+'/pinc08_2_1_6.xls', header=9)\n",
    "allmales['hispanic']=pd.read_excel(url+'/pinc08_2_1_9.xls', header=9)\n",
    "allmales['asian']=pd.read_excel(url+'/pinc08_2_1_8.xls', header=9)\n",
    "\n",
    "allfemales['all']=pd.read_excel(url+'/pinc08_3_1_1.xls', header=9)\n",
    "allfemales['white']=pd.read_excel(url+'/pinc08_3_1_4.xls', header=9)\n",
    "allfemales['black']=pd.read_excel(url+'/pinc08_3_1_6.xls', header=9)\n",
    "allfemales['hispanic']=pd.read_excel(url+'/pinc08_3_1_9.xls', header=9)\n",
    "allfemales['asian']=pd.read_excel(url+'/pinc08_3_1_8.xls', header=9)"
   ]
  },
  {
   "cell_type": "code",
   "execution_count": 3,
   "metadata": {
    "collapsed": false
   },
   "outputs": [
    {
     "name": "stdout",
     "output_type": "stream",
     "text": [
      "Index([      u'Characteristic',    u'Total with Income',\n",
      "       u'$1 to $2,499 or loss',     u'$2,500 to $4,999',\n",
      "           u'$5,000 to $7,499',     u'$7,500 to $9,999',\n",
      "         u'$10,000 to $12,499',   u'$12,500 to $14,999',\n",
      "         u'$15,000 to $17,499',   u'$17,500 to $19,999',\n",
      "         u'$20,000 to $22,499',   u'$22,500 to $24,999',\n",
      "         u'$25,000 to $27,499',   u'$27,500 to $29,999',\n",
      "         u'$30,000 to $32,499',   u'$32,500 to $34,999',\n",
      "         u'$35,000 to $37,499',   u'$37,500 to $39,999',\n",
      "         u'$40,000 to $42,499',   u'$42,500 to $44,999',\n",
      "         u'$45,000 to $47,499',   u'$47,500 to $49,999',\n",
      "         u'$50,000 to $52,499',   u'$52,500 to $54,999',\n",
      "         u'$55,000 to $57,499',   u'$57,500 to $59,999',\n",
      "         u'$60,000 to $62,499',   u'$62,500 to $64,999',\n",
      "         u'$65,000 to $67,499',   u'$67,500 to $69,999',\n",
      "         u'$70,000 to $72,499',   u'$72,500 to $74,999',\n",
      "         u'$75,000 to $77,499',   u'$77,500 to $79,999',\n",
      "         u'$80,000 to $82,499',   u'$82,500 to $84,999',\n",
      "         u'$85,000 to $87,499',   u'$87,500 to $89,999',\n",
      "         u'$90,000 to $92,499',   u'$92,500 to $94,999',\n",
      "         u'$95,000 to $97,499',   u'$97,500 to $99,999',\n",
      "          u'$100,000 and over',        u'Median income',\n",
      "                u'Unnamed: 44',          u'Mean income',\n",
      "                u'Unnamed: 46',           u'Gini ratio',\n",
      "                u'Unnamed: 48'],\n",
      "      dtype='object')\n",
      "Index([      u'Characteristic',    u'Total with Income',\n",
      "       u'$1 to $2,499 or loss',     u'$2,500 to $4,999',\n",
      "           u'$5,000 to $7,499',     u'$7,500 to $9,999',\n",
      "         u'$10,000 to $12,499',   u'$12,500 to $14,999',\n",
      "         u'$15,000 to $17,499',   u'$17,500 to $19,999',\n",
      "         u'$20,000 to $22,499',   u'$22,500 to $24,999',\n",
      "         u'$25,000 to $27,499',   u'$27,500 to $29,999',\n",
      "         u'$30,000 to $32,499',   u'$32,500 to $34,999',\n",
      "         u'$35,000 to $37,499',   u'$37,500 to $39,999',\n",
      "         u'$40,000 to $42,499',   u'$42,500 to $44,999',\n",
      "         u'$45,000 to $47,499',   u'$47,500 to $49,999',\n",
      "         u'$50,000 to $52,499',   u'$52,500 to $54,999',\n",
      "         u'$55,000 to $57,499',   u'$57,500 to $59,999',\n",
      "         u'$60,000 to $62,499',   u'$62,500 to $64,999',\n",
      "         u'$65,000 to $67,499',   u'$67,500 to $69,999',\n",
      "         u'$70,000 to $72,499',   u'$72,500 to $74,999',\n",
      "         u'$75,000 to $77,499',   u'$77,500 to $79,999',\n",
      "         u'$80,000 to $82,499',   u'$82,500 to $84,999',\n",
      "         u'$85,000 to $87,499',   u'$87,500 to $89,999',\n",
      "         u'$90,000 to $92,499',   u'$92,500 to $94,999',\n",
      "         u'$95,000 to $97,499',   u'$97,500 to $99,999',\n",
      "          u'$100,000 and over',        u'Median income',\n",
      "                u'Unnamed: 44',          u'Mean income',\n",
      "                u'Unnamed: 46',           u'Gini ratio',\n",
      "                u'Unnamed: 48'],\n",
      "      dtype='object')\n"
     ]
    }
   ],
   "source": [
    "from pandas.tools.plotting import scatter_matrix\n",
    "#scatter_matrix will plot each column agains each other. that is a great way to begin inspecting the data\n",
    "#scatter_matrix (allmales['all'], s=30, figsize=(16, 16), diagonal='kde', alpha=0.2)\n",
    "\n",
    "#let's see what is in the data\n",
    "print allmales['all'].columns\n",
    "print allfemales['all'].columns"
   ]
  },
  {
   "cell_type": "markdown",
   "metadata": {},
   "source": [
    "###remove non real entries"
   ]
  },
  {
   "cell_type": "code",
   "execution_count": 4,
   "metadata": {
    "collapsed": false
   },
   "outputs": [
    {
     "name": "stderr",
     "output_type": "stream",
     "text": [
      "C:\\Users\\Boyeong\\Anaconda\\lib\\site-packages\\IPython\\kernel\\__main__.py:12: SettingWithCopyWarning: \n",
      "A value is trying to be set on a copy of a slice from a DataFrame\n",
      "\n",
      "See the the caveats in the documentation: http://pandas.pydata.org/pandas-docs/stable/indexing.html#indexing-view-versus-copy\n"
     ]
    }
   ],
   "source": [
    "#Another way to remove non real entries, is to use the np.isreal command, \n",
    "#i end up doing it in a for loop, which is ugly.\n",
    "#think about how you could improve on that if you already have coding experience\n",
    "#and are used to pythonic ways!\n",
    "\n",
    "#allmales\n",
    "\n",
    "for k in allmales:\n",
    "    nonreal  = allmales[k].applymap(np.isreal)\n",
    "    for c in allmales[k].columns :\n",
    "        if nonreal.sum()[c]>1 and nonreal.sum()[c]<49:\n",
    "            allmales[k][c][~nonreal[c]] = np.float('NaN')\n",
    "            allmales[k][c] = allmales[k][c].astype(float)\n"
   ]
  },
  {
   "cell_type": "code",
   "execution_count": 5,
   "metadata": {
    "collapsed": false
   },
   "outputs": [
    {
     "name": "stderr",
     "output_type": "stream",
     "text": [
      "C:\\Users\\Boyeong\\Anaconda\\lib\\site-packages\\IPython\\kernel\\__main__.py:7: SettingWithCopyWarning: \n",
      "A value is trying to be set on a copy of a slice from a DataFrame\n",
      "\n",
      "See the the caveats in the documentation: http://pandas.pydata.org/pandas-docs/stable/indexing.html#indexing-view-versus-copy\n"
     ]
    }
   ],
   "source": [
    "#allfemales\n",
    "\n",
    "for k in allfemales:\n",
    "    nonreal_f  = allfemales[k].applymap(np.isreal)\n",
    "    for c in allfemales[k].columns :\n",
    "        if nonreal_f.sum()[c]>1 and nonreal_f.sum()[c]<49:\n",
    "            allfemales[k][c][~nonreal_f[c]] = np.float('NaN')\n",
    "            allfemales[k][c] = allfemales[k][c].astype(float)"
   ]
  },
  {
   "cell_type": "code",
   "execution_count": 6,
   "metadata": {
    "collapsed": false
   },
   "outputs": [],
   "source": [
    "#print allmales['all'].head(3)"
   ]
  },
  {
   "cell_type": "markdown",
   "metadata": {},
   "source": [
    "###scatter_matrix"
   ]
  },
  {
   "cell_type": "code",
   "execution_count": 7,
   "metadata": {
    "collapsed": false
   },
   "outputs": [],
   "source": [
    "#scatter_matrix will plot each column agains each other. that is a great way to begin inspecting the data\n",
    "#scatter_matrix (allmales['all'], s=30, figsize=(20, 20), diagonal='kde', alpha=0.2)\n",
    "\n",
    "#I tried plot scatter_matrix again, but there are lots of attributes so the plot looks not good."
   ]
  },
  {
   "cell_type": "markdown",
   "metadata": {},
   "source": [
    "###plot the Total Median Income"
   ]
  },
  {
   "cell_type": "code",
   "execution_count": 32,
   "metadata": {
    "collapsed": false
   },
   "outputs": [
    {
     "data": {
      "text/plain": [
       "<matplotlib.legend.Legend at 0x1f5cbb38>"
      ]
     },
     "execution_count": 32,
     "metadata": {},
     "output_type": "execute_result"
    },
    {
     "data": {
      "image/png": "[encoded data removed]",
      "text/plain": [
       "<matplotlib.figure.Figure at 0x1be4e898>"
      ]
     },
     "metadata": {},
     "output_type": "display_data"
    }
   ],
   "source": [
    "#plot the Total Median Income (from any source of revenue) of females vs the Total Median Income of males by race (one data point per race)\n",
    "pl.figure(figsize=(10,8))\n",
    "pl.title('Scatter plot', fontsize=15)\n",
    "pl.xlabel('Male Median Income ($)', fontsize=12)\n",
    "pl.ylabel('Femal Median Income ($)', fontsize=12)\n",
    "pl.xlim(-10000,50000)\n",
    "pl.ylim(-10000,50000)\n",
    "pl.plot(allmales['all']['Median income'], allfemales['all']['Median income'], '.', color='Black', alpha=0.7, label='all')\n",
    "#pl.plot(allmales['white']['Median income'], allfemales['white']['Median income'], '.', color='Blue', alpha=0.7, label='white')\n",
    "#pl.plot(allmales['black']['Median income'], allfemales['black']['Median income'], '.', color='Red', alpha=0.7, label='black')\n",
    "#pl.plot(allmales['hispanic']['Median income'], allfemales['hispanic']['Median income'], '.', color='Green', alpha=0.7, label='hispanic')\n",
    "#pl.plot(allmales['asian']['Median income'], allfemales['asian']['Median income'], '.', color='Orange', alpha=0.7, label='asian')\n",
    "\n",
    "x =np.arange(0., 40000., 1000)\n",
    "y=x\n",
    "pl.plot(x, y, '--', color='Gray', alpha=0.5, label='equal line between male and female')\n",
    "#xlim=(1000,1e10), ylim=(1,1000)\n",
    "\n",
    "pl.legend()"
   ]
  },
  {
   "cell_type": "markdown",
   "metadata": {},
   "source": [
    "###Make dataset to merge median income data of all races."
   ]
  },
  {
   "cell_type": "code",
   "execution_count": 9,
   "metadata": {
    "collapsed": false
   },
   "outputs": [
    {
     "data": {
      "text/html": [
       "<div>\n",
       "<table border=\"1\" class=\"dataframe\">\n",
       "  <thead>\n",
       "    <tr style=\"text-align: right;\">\n",
       "      <th></th>\n",
       "      <th>female_all</th>\n",
       "      <th>female_asian</th>\n",
       "      <th>female_black</th>\n",
       "      <th>female_hispanic</th>\n",
       "      <th>female_white</th>\n",
       "      <th>hispanic_male</th>\n",
       "      <th>male_all</th>\n",
       "      <th>male_asian</th>\n",
       "      <th>male_black</th>\n",
       "      <th>male_white</th>\n",
       "    </tr>\n",
       "  </thead>\n",
       "  <tbody>\n",
       "    <tr>\n",
       "      <th>0</th>\n",
       "      <td>NaN</td>\n",
       "      <td>NaN</td>\n",
       "      <td>NaN</td>\n",
       "      <td>NaN</td>\n",
       "      <td>NaN</td>\n",
       "      <td>NaN</td>\n",
       "      <td>NaN</td>\n",
       "      <td>NaN</td>\n",
       "      <td>NaN</td>\n",
       "      <td>NaN</td>\n",
       "    </tr>\n",
       "    <tr>\n",
       "      <th>1</th>\n",
       "      <td>22063</td>\n",
       "      <td>24840</td>\n",
       "      <td>20044</td>\n",
       "      <td>17762</td>\n",
       "      <td>23780</td>\n",
       "      <td>25411</td>\n",
       "      <td>35228</td>\n",
       "      <td>40153</td>\n",
       "      <td>24855</td>\n",
       "      <td>40122</td>\n",
       "    </tr>\n",
       "    <tr>\n",
       "      <th>2</th>\n",
       "      <td>27736</td>\n",
       "      <td>31363</td>\n",
       "      <td>25971</td>\n",
       "      <td>21261</td>\n",
       "      <td>30626</td>\n",
       "      <td>26914</td>\n",
       "      <td>39903</td>\n",
       "      <td>45926</td>\n",
       "      <td>30389</td>\n",
       "      <td>44882</td>\n",
       "    </tr>\n",
       "    <tr>\n",
       "      <th>3</th>\n",
       "      <td>28402</td>\n",
       "      <td>31802</td>\n",
       "      <td>26165</td>\n",
       "      <td>21411</td>\n",
       "      <td>30919</td>\n",
       "      <td>27017</td>\n",
       "      <td>40298</td>\n",
       "      <td>45950</td>\n",
       "      <td>30686</td>\n",
       "      <td>45554</td>\n",
       "    </tr>\n",
       "    <tr>\n",
       "      <th>4</th>\n",
       "      <td>10732</td>\n",
       "      <td>15231</td>\n",
       "      <td>10313</td>\n",
       "      <td>11020</td>\n",
       "      <td>10328</td>\n",
       "      <td>19988</td>\n",
       "      <td>19557</td>\n",
       "      <td>30916</td>\n",
       "      <td>10786</td>\n",
       "      <td>20445</td>\n",
       "    </tr>\n",
       "  </tbody>\n",
       "</table>\n",
       "</div>"
      ],
      "text/plain": [
       "   female_all  female_asian  female_black  female_hispanic  female_white  \\\n",
       "0         NaN           NaN           NaN              NaN           NaN   \n",
       "1       22063         24840         20044            17762         23780   \n",
       "2       27736         31363         25971            21261         30626   \n",
       "3       28402         31802         26165            21411         30919   \n",
       "4       10732         15231         10313            11020         10328   \n",
       "\n",
       "   hispanic_male  male_all  male_asian  male_black  male_white  \n",
       "0            NaN       NaN         NaN         NaN         NaN  \n",
       "1          25411     35228       40153       24855       40122  \n",
       "2          26914     39903       45926       30389       44882  \n",
       "3          27017     40298       45950       30686       45554  \n",
       "4          19988     19557       30916       10786       20445  "
      ]
     },
     "execution_count": 9,
     "metadata": {},
     "output_type": "execute_result"
    }
   ],
   "source": [
    "#Make dataset\n",
    "medianincomedata = pd.DataFrame({'male_all': allmales['all']['Median income'], 'male_white':allmales['white']['Median income'], \n",
    "                                 'male_black':allmales['black']['Median income'], 'hispanic_male':allmales['hispanic']['Median income'], \n",
    "                                 'male_asian':allmales['asian']['Median income'], 'female_all':allfemales['all']['Median income'], \n",
    "                                 'female_white':allfemales['white']['Median income'], 'female_black':allfemales['black']['Median income'],\n",
    "                                'female_hispanic':allfemales['hispanic']['Median income'], 'female_asian':allfemales['asian']['Median income']})\n",
    "medianincomedata.head()"
   ]
  },
  {
   "cell_type": "markdown",
   "metadata": {},
   "source": [
    "###Fit to model"
   ]
  },
  {
   "cell_type": "code",
   "execution_count": 10,
   "metadata": {
    "collapsed": false,
    "scrolled": false
   },
   "outputs": [
    {
     "name": "stdout",
     "output_type": "stream",
     "text": [
      "                            OLS Regression Results                            \n",
      "==============================================================================\n",
      "Dep. Variable:             female_all   R-squared:                       0.862\n",
      "Model:                            OLS   Adj. R-squared:                  0.859\n",
      "Method:                 Least Squares   F-statistic:                     269.4\n",
      "Date:                Thu, 15 Oct 2015   Prob (F-statistic):           3.96e-20\n",
      "Time:                        10:24:12   Log-Likelihood:                -418.51\n",
      "No. Observations:                  45   AIC:                             841.0\n",
      "Df Residuals:                      43   BIC:                             844.6\n",
      "Df Model:                           1                                         \n",
      "Covariance Type:            nonrobust                                         \n",
      "==============================================================================\n",
      "                 coef    std err          t      P>|t|      [95.0% Conf. Int.]\n",
      "------------------------------------------------------------------------------\n",
      "Intercept   1402.6193    680.314      2.062      0.045        30.636  2774.603\n",
      "male_all       0.5697      0.035     16.412      0.000         0.500     0.640\n",
      "==============================================================================\n",
      "Omnibus:                       21.655   Durbin-Watson:                   1.732\n",
      "Prob(Omnibus):                  0.000   Jarque-Bera (JB):               39.717\n",
      "Skew:                          -1.336   Prob(JB):                     2.37e-09\n",
      "Kurtosis:                       6.747   Cond. No.                     3.30e+04\n",
      "==============================================================================\n",
      "\n",
      "Warnings:\n",
      "[1] Standard Errors assume that the covariance matrix of the errors is correctly specified.\n",
      "[2] The condition number is large, 3.3e+04. This might indicate that there are\n",
      "strong multicollinearity or other numerical problems.\n",
      "                            OLS Regression Results                            \n",
      "==============================================================================\n",
      "Dep. Variable:           female_white   R-squared:                       0.867\n",
      "Model:                            OLS   Adj. R-squared:                  0.864\n",
      "Method:                 Least Squares   F-statistic:                     280.5\n",
      "Date:                Thu, 15 Oct 2015   Prob (F-statistic):           1.86e-20\n",
      "Time:                        10:24:12   Log-Likelihood:                -420.43\n",
      "No. Observations:                  45   AIC:                             844.9\n",
      "Df Residuals:                      43   BIC:                             848.5\n",
      "Df Model:                           1                                         \n",
      "Covariance Type:            nonrobust                                         \n",
      "==============================================================================\n",
      "                 coef    std err          t      P>|t|      [95.0% Conf. Int.]\n",
      "------------------------------------------------------------------------------\n",
      "Intercept   1336.9055    696.961      1.918      0.062       -68.650  2742.461\n",
      "male_white     0.5574      0.033     16.748      0.000         0.490     0.624\n",
      "==============================================================================\n",
      "Omnibus:                       16.422   Durbin-Watson:                   1.824\n",
      "Prob(Omnibus):                  0.000   Jarque-Bera (JB):               24.660\n",
      "Skew:                          -1.082   Prob(JB):                     4.42e-06\n",
      "Kurtosis:                       5.910   Cond. No.                     3.46e+04\n",
      "==============================================================================\n",
      "\n",
      "Warnings:\n",
      "[1] Standard Errors assume that the covariance matrix of the errors is correctly specified.\n",
      "[2] The condition number is large, 3.46e+04. This might indicate that there are\n",
      "strong multicollinearity or other numerical problems.\n",
      "                            OLS Regression Results                            \n",
      "==============================================================================\n",
      "Dep. Variable:           female_black   R-squared:                       0.911\n",
      "Model:                            OLS   Adj. R-squared:                  0.908\n",
      "Method:                 Least Squares   F-statistic:                     327.1\n",
      "Date:                Thu, 15 Oct 2015   Prob (F-statistic):           2.31e-18\n",
      "Time:                        10:24:12   Log-Likelihood:                -313.25\n",
      "No. Observations:                  34   AIC:                             630.5\n",
      "Df Residuals:                      32   BIC:                             633.6\n",
      "Df Model:                           1                                         \n",
      "Covariance Type:            nonrobust                                         \n",
      "==============================================================================\n",
      "                 coef    std err          t      P>|t|      [95.0% Conf. Int.]\n",
      "------------------------------------------------------------------------------\n",
      "Intercept    104.5864    745.459      0.140      0.889     -1413.863  1623.036\n",
      "male_black     0.8681      0.048     18.085      0.000         0.770     0.966\n",
      "==============================================================================\n",
      "Omnibus:                       32.437   Durbin-Watson:                   2.839\n",
      "Prob(Omnibus):                  0.000   Jarque-Bera (JB):               88.567\n",
      "Skew:                           2.116   Prob(JB):                     5.86e-20\n",
      "Kurtosis:                       9.679   Cond. No.                     2.70e+04\n",
      "==============================================================================\n",
      "\n",
      "Warnings:\n",
      "[1] Standard Errors assume that the covariance matrix of the errors is correctly specified.\n",
      "[2] The condition number is large, 2.7e+04. This might indicate that there are\n",
      "strong multicollinearity or other numerical problems.\n",
      "                            OLS Regression Results                            \n",
      "==============================================================================\n",
      "Dep. Variable:        female_hispanic   R-squared:                       0.925\n",
      "Model:                            OLS   Adj. R-squared:                  0.922\n",
      "Method:                 Least Squares   F-statistic:                     331.9\n",
      "Date:                Thu, 15 Oct 2015   Prob (F-statistic):           1.07e-16\n",
      "Time:                        10:24:12   Log-Likelihood:                -255.16\n",
      "No. Observations:                  29   AIC:                             514.3\n",
      "Df Residuals:                      27   BIC:                             517.1\n",
      "Df Model:                           1                                         \n",
      "Covariance Type:            nonrobust                                         \n",
      "=================================================================================\n",
      "                    coef    std err          t      P>|t|      [95.0% Conf. Int.]\n",
      "---------------------------------------------------------------------------------\n",
      "Intercept       597.9102    539.912      1.107      0.278      -509.898  1705.719\n",
      "hispanic_male     0.6706      0.037     18.219      0.000         0.595     0.746\n",
      "==============================================================================\n",
      "Omnibus:                       15.434   Durbin-Watson:                   1.516\n",
      "Prob(Omnibus):                  0.000   Jarque-Bera (JB):               20.268\n",
      "Skew:                          -1.233   Prob(JB):                     3.97e-05\n",
      "Kurtosis:                       6.270   Cond. No.                     2.57e+04\n",
      "==============================================================================\n",
      "\n",
      "Warnings:\n",
      "[1] Standard Errors assume that the covariance matrix of the errors is correctly specified.\n",
      "[2] The condition number is large, 2.57e+04. This might indicate that there are\n",
      "strong multicollinearity or other numerical problems.\n",
      "                            OLS Regression Results                            \n",
      "==============================================================================\n",
      "Dep. Variable:           female_asian   R-squared:                       0.954\n",
      "Model:                            OLS   Adj. R-squared:                  0.952\n",
      "Method:                 Least Squares   F-statistic:                     474.1\n",
      "Date:                Thu, 15 Oct 2015   Prob (F-statistic):           7.53e-17\n",
      "Time:                        10:24:12   Log-Likelihood:                -224.46\n",
      "No. Observations:                  25   AIC:                             452.9\n",
      "Df Residuals:                      23   BIC:                             455.3\n",
      "Df Model:                           1                                         \n",
      "Covariance Type:            nonrobust                                         \n",
      "==============================================================================\n",
      "                 coef    std err          t      P>|t|      [95.0% Conf. Int.]\n",
      "------------------------------------------------------------------------------\n",
      "Intercept   2234.5669    616.256      3.626      0.001       959.744  3509.389\n",
      "male_asian     0.6068      0.028     21.774      0.000         0.549     0.664\n",
      "==============================================================================\n",
      "Omnibus:                        5.030   Durbin-Watson:                   1.498\n",
      "Prob(Omnibus):                  0.081   Jarque-Bera (JB):                3.353\n",
      "Skew:                          -0.524   Prob(JB):                        0.187\n",
      "Kurtosis:                       4.455   Cond. No.                     3.41e+04\n",
      "==============================================================================\n",
      "\n",
      "Warnings:\n",
      "[1] Standard Errors assume that the covariance matrix of the errors is correctly specified.\n",
      "[2] The condition number is large, 3.41e+04. This might indicate that there are\n",
      "strong multicollinearity or other numerical problems.\n"
     ]
    }
   ],
   "source": [
    "# fit to model\n",
    "\n",
    "#all male and all female\n",
    "model_all = smf.ols(formula = 'female_all ~male_all', data=medianincomedata).fit()\n",
    "print model_all.summary()\n",
    "\n",
    "#white male and white female\n",
    "model_white = smf.ols(formula = 'female_white ~male_white', data=medianincomedata).fit()\n",
    "print model_white.summary()\n",
    "\n",
    "#black male and black female\n",
    "model_black = smf.ols(formula = 'female_black ~male_black', data=medianincomedata).fit()\n",
    "print model_black.summary()\n",
    "\n",
    "#hispanic male and hispanic female\n",
    "model_hispanic = smf.ols(formula = 'female_hispanic ~hispanic_male', data=medianincomedata).fit()\n",
    "print model_hispanic.summary()\n",
    "\n",
    "#asian male and asian female\n",
    "model_asian = smf.ols(formula = 'female_asian ~male_asian', data=medianincomedata).fit()\n",
    "print model_asian.summary()"
   ]
  },
  {
   "cell_type": "markdown",
   "metadata": {},
   "source": [
    "### Using other method (the analytical best regression of the total median income)"
   ]
  },
  {
   "cell_type": "code",
   "execution_count": 22,
   "metadata": {
    "collapsed": false
   },
   "outputs": [],
   "source": [
    "import scipy.stats\n",
    "#this is the analytical best regression line.\n",
    "all_males=medianincomedata['male_all']\n",
    "all_females=medianincomedata['female_all']\n",
    "\n",
    "cor = scipy.stats.spearmanr(all_males, all_females)\n",
    "all_males.std()/all_females.std()\n",
    "beta1=cor[0]*all_females.std()/all_males.std()\n",
    "beta0=all_females.mean()-beta1*all_males.mean()"
   ]
  },
  {
   "cell_type": "code",
   "execution_count": 26,
   "metadata": {
    "collapsed": false
   },
   "outputs": [
    {
     "name": "stdout",
     "output_type": "stream",
     "text": [
      "1402.61926642\n",
      "0.558819109313\n",
      "1527.2343818\n"
     ]
    }
   ],
   "source": [
    "print model_all.params[0]\n",
    "print beta1\n",
    "print beta0"
   ]
  },
  {
   "cell_type": "markdown",
   "metadata": {},
   "source": [
    "###plot the line corresponding to the analytical regression to compare it with the result"
   ]
  },
  {
   "cell_type": "code",
   "execution_count": 31,
   "metadata": {
    "collapsed": false
   },
   "outputs": [
    {
     "data": {
      "text/plain": [
       "<matplotlib.legend.Legend at 0x1f3845c0>"
      ]
     },
     "execution_count": 31,
     "metadata": {},
     "output_type": "execute_result"
    },
    {
     "data": {
      "image/png": "[encoded data removed]",
      "text/plain": [
       "<matplotlib.figure.Figure at 0x1f260cf8>"
      ]
     },
     "metadata": {},
     "output_type": "display_data"
    }
   ],
   "source": [
    "#plot the line corresponding to the analytical regression to compare it with the result\n",
    "\n",
    "pl.figure(figsize=(10,8))\n",
    "pl.title('Scatter plot and Fitted line', fontsize=15)\n",
    "pl.xlabel('Male Median Income ($)', fontsize=12)\n",
    "pl.ylabel('Femal Median Income ($)', fontsize=12)\n",
    "pl.xlim(-1000,40000)\n",
    "pl.ylim(-1000,40000)\n",
    "\n",
    "pl.plot(medianincomedata['male_all'], medianincomedata['female_all'], '.', color='Black', alpha=0.7, label='all')\n",
    "pl.plot(medianincomedata['male_white'], medianincomedata['female_white'], '.',  color='Blue', alpha=0.7, label='white')\n",
    "pl.plot(medianincomedata['male_black'], medianincomedata['female_black'], '.', color='Red', alpha=0.7, label='black')\n",
    "pl.plot(medianincomedata['hispanic_male'], medianincomedata['female_hispanic'], '.', color='Green', alpha=0.7, label='hispanic')\n",
    "pl.plot(medianincomedata['male_asian'], medianincomedata['female_asian'], '.', color='Orange', alpha=0.7, label='asian')\n",
    "\n",
    "def base_line(a, b, x):\n",
    "    y=a+ b*x\n",
    "    return y\n",
    "\n",
    "x =np.arange(0, 40000., 1000)\n",
    "y=x\n",
    "\n",
    "y_all=base_line(model_all.params[0], model_all.params[1], x)\n",
    "y_white=base_line(model_white.params[0], model_white.params[1], x)\n",
    "y_black=base_line(model_black.params[0], model_black.params[1], x)\n",
    "y_hispanic=base_line(model_hispanic.params[0], model_hispanic.params[1], x)\n",
    "y_asian=base_line(model_asian.params[0], model_asian.params[1], x)\n",
    "y_analytic=base_line(beta0, beta1, x)\n",
    "\n",
    "pl.plot(x, y, '--', color='Gray', alpha=0.1, label='equal line between male and female')\n",
    "pl.plot(x,y_all, color='Black', alpha=0.3, label='regression of all')\n",
    "pl.plot(x,y_white, color='Blue', alpha=0.3, label='regression of white')\n",
    "pl.plot(x,y_black, color='Red', alpha=0.3, label='regression of balck')\n",
    "pl.plot(x,y_hispanic, color='Green', alpha=0.3, label='regression of hispanic')\n",
    "pl.plot(x,y_asian, color='Orange', alpha=0.3, label='regression of asian')\n",
    "pl.plot(x,y_analytic, '--',color='Black', alpha=0.5, label='analytic regression of all')\n",
    "\n",
    "pl.legend(loc='upper left')"
   ]
  },
  {
   "cell_type": "markdown",
   "metadata": {
    "collapsed": false
   },
   "source": [
    "##Interpretation\n",
    "* All female receive lower income than male.\n",
    "* Relatively, the gap of income between white male and white female is lower than any other races.\n",
    "* From this analytic regression model, black female earn the lowest wage in comparison men's wage in the same job position."
   ]
  },
  {
   "cell_type": "code",
   "execution_count": null,
   "metadata": {
    "collapsed": true
   },
   "outputs": [],
   "source": []
  }
 ],
 "metadata": {
  "kernelspec": {
   "display_name": "Python 2",
   "language": "python",
   "name": "python2"
  },
  "language_info": {
   "codemirror_mode": {
    "name": "ipython",
    "version": 2
   },
   "file_extension": ".py",
   "mimetype": "text/x-python",
   "name": "python",
   "nbconvert_exporter": "python",
   "pygments_lexer": "ipython2",
   "version": "2.7.10"
  }
 },
 "nbformat": 4,
 "nbformat_minor": 0
}
